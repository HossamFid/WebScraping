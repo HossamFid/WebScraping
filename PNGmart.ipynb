{
 "metadata": {
  "language_info": {
   "codemirror_mode": {
    "name": "ipython",
    "version": 3
   },
   "file_extension": ".py",
   "mimetype": "text/x-python",
   "name": "python",
   "nbconvert_exporter": "python",
   "pygments_lexer": "ipython3",
   "version": "3.8.7"
  },
  "orig_nbformat": 2,
  "kernelspec": {
   "name": "python387jvsc74a57bd0acf59f75cb9e70e1ca1c95d85d91fc5c10f6db84a836b13dab680cfa3d83cbbb",
   "display_name": "Python 3.8.7 64-bit"
  }
 },
 "nbformat": 4,
 "nbformat_minor": 2,
 "cells": [
  {
   "cell_type": "code",
   "execution_count": 1,
   "metadata": {},
   "outputs": [],
   "source": [
    "# scraping all pngMart.com images \n",
    "\n",
    "import requests\n",
    "from bs4 import BeautifulSoup\n",
    "#import matplotlib.pyplot as plt "
   ]
  },
  {
   "cell_type": "code",
   "execution_count": 2,
   "metadata": {},
   "outputs": [
    {
     "output_type": "execute_result",
     "data": {
      "text/plain": [
       "'http://www.pngmart.com/sitemapindex.xml/'"
      ]
     },
     "metadata": {},
     "execution_count": 2
    }
   ],
   "source": [
    "site_map = 'http://www.pngmart.com/sitemapindex.xml/'\n",
    "site_map"
   ]
  },
  {
   "cell_type": "code",
   "execution_count": 3,
   "metadata": {},
   "outputs": [
    {
     "output_type": "execute_result",
     "data": {
      "text/plain": [
       "'OK'"
      ]
     },
     "metadata": {},
     "execution_count": 3
    }
   ],
   "source": [
    "response = requests.get(site_map)\n",
    "response.reason"
   ]
  },
  {
   "cell_type": "code",
   "execution_count": 4,
   "metadata": {},
   "outputs": [
    {
     "output_type": "execute_result",
     "data": {
      "text/plain": [
       "'<?xml version=\"1.0\" encoding=\"UTF-8\"?>\\n\\n<sitemapindex\\n\\txmlns:xsi=\"http://www.w3.org/2001/XMLSchema-instance\"\\n\\txsi:schemaLocation=\"http://www.sitemaps.org/schemas/sitemap/0.9 http://www.sitemaps.org/schemas/sitemap/0.9/siteindex.xsd\"\\n\\txmlns=\"http://www.sitemaps.org/schemas/sitemap/0.9\">\\n\\n\\t<sitemap>\\n\\t\\t<loc>http://www.pngmart.com/site.xml</loc>\\n\\t\\t<lastmod>2021-04-13T19:54:45Z</lastmod>\\n\\t</sitemap>\\n\\n\\t<sitemap>\\n\\t\\t<loc>http://www.pngmart.com/post_part1.xml</loc>\\n\\t\\t<lastmod>2021-04-13T20:44:01Z</lastmod>\\n\\t</sitemap>\\n\\n\\t<sitemap>\\n\\t\\t<loc>http://www.pngmart.com/post_part2.xml</loc>\\n\\t\\t<lastmod>2021-04-13T19:54:32Z</lastmod>\\n\\t</sitemap>\\n\\n\\t<sitemap>\\n\\t\\t<loc>http://www.pngmart.com/post_part3.xml</loc>\\n\\t\\t<lastmod>2021-04-13T06:12:08Z</lastmod>\\n\\t</sitemap>\\n\\n\\t<sitemap>\\n\\t\\t<loc>http://www.pngmart.com/post_part4.xml</loc>\\n\\t\\t<lastmod>2021-04-13T08:40:31Z</lastmod>\\n\\t</sitemap>\\n\\n\\t<sitemap>\\n\\t\\t<loc>http://www.pngmart.com/post_part5.xml</loc>\\n\\t\\t<lastmod>2021-04-13T07:54:38Z</lastmod>\\n\\t</sitemap>\\n\\n\\t<sitemap>\\n\\t\\t<loc>http://www.pngmart.com/post_part6.xml</loc>\\n\\t\\t<lastmod>2021-04-13T12:05:27Z</lastmod>\\n\\t</sitemap>\\n\\n\\t<sitemap>\\n\\t\\t<loc>http://www.pngmart.com/post_part7.xml</loc>\\n\\t\\t<lastmod>2021-04-13T08:19:13Z</lastmod>\\n\\t</sitemap>\\n\\n\\t<sitemap>\\n\\t\\t<loc>http://www.pngmart.com/post_part8.xml</loc>\\n\\t\\t<lastmod>2021-04-13T08:59:52Z</lastmod>\\n\\t</sitemap>\\n\\n\\t<sitemap>\\n\\t\\t<loc>http://www.pngmart.com/post_part9.xml</loc>\\n\\t\\t<lastmod>2021-04-13T18:51:08Z</lastmod>\\n\\t</sitemap>\\n\\n\\t<sitemap>\\n\\t\\t<loc>http://www.pngmart.com/post_part10.xml</loc>\\n\\t\\t<lastmod>2021-04-13T12:43:38Z</lastmod>\\n\\t</sitemap>\\n\\n\\t<sitemap>\\n\\t\\t<loc>http://www.pngmart.com/post_part11.xml</loc>\\n\\t\\t<lastmod>2021-04-13T07:31:36Z</lastmod>\\n\\t</sitemap>\\n\\n\\t<sitemap>\\n\\t\\t<loc>http://www.pngmart.com/post_part12.xml</loc>\\n\\t\\t<lastmod>2021-04-13T10:35:47Z</lastmod>\\n\\t</sitemap>\\n\\n\\t<sitemap>\\n\\t\\t<loc>http://www.pngmart.com/post_part13.xml</loc>\\n\\t\\t<lastmod>2021-04-13T07:31:03Z</lastmod>\\n\\t</sitemap>\\n\\n\\t<sitemap>\\n\\t\\t<loc>http://www.pngmart.com/post_part14.xml</loc>\\n\\t\\t<lastmod>2021-04-13T06:12:43Z</lastmod>\\n\\t</sitemap>\\n\\n\\t<sitemap>\\n\\t\\t<loc>http://www.pngmart.com/post_part15.xml</loc>\\n\\t\\t<lastmod>2021-04-13T14:20:15Z</lastmod>\\n\\t</sitemap>\\n\\n\\t<sitemap>\\n\\t\\t<loc>http://www.pngmart.com/post_part16.xml</loc>\\n\\t\\t<lastmod>2021-04-13T08:49:40Z</lastmod>\\n\\t</sitemap>\\n\\n\\t<sitemap>\\n\\t\\t<loc>http://www.pngmart.com/post_part17.xml</loc>\\n\\t\\t<lastmod>2021-04-13T06:12:01Z</lastmod>\\n\\t</sitemap>\\n\\n\\t<sitemap>\\n\\t\\t<loc>http://www.pngmart.com/page.xml</loc>\\n\\t\\t<lastmod>2021-04-13T14:30:41Z</lastmod>\\n\\t</sitemap>\\n\\n\\t<sitemap>\\n\\t\\t<loc>http://www.pngmart.com/taxonomy_category.xml</loc>\\n\\t\\t<lastmod>2021-04-13T12:12:51Z</lastmod>\\n\\t</sitemap>\\n\\n\\t<sitemap>\\n\\t\\t<loc>http://www.pngmart.com/taxonomy_post_tag.xml</loc>\\n\\t\\t<lastmod>2021-04-13T17:58:12Z</lastmod>\\n\\t</sitemap>\\n\\n</sitemapindex>\\n\\n<!-- Generated by BWP Google XML Sitemaps 1.4.1 (c) 2021 Khang Minh - betterwp.net\\nPlugin homepage: http://betterwp.net/wordpress-plugins/google-xml-sitemaps/ -->\\n\\n<!-- This sitemap was originally generated in 0.004 second(s) (Memory usage: 1.34 MB) - 2 queries - 21 URL(s) listed -->'"
      ]
     },
     "metadata": {},
     "execution_count": 4
    }
   ],
   "source": [
    "response.text"
   ]
  },
  {
   "cell_type": "code",
   "execution_count": 5,
   "metadata": {},
   "outputs": [
    {
     "output_type": "execute_result",
     "data": {
      "text/plain": [
       "<?xml version=\"1.0\" encoding=\"utf-8\"?>\n",
       "<sitemapindex xmlns=\"http://www.sitemaps.org/schemas/sitemap/0.9\" xmlns:xsi=\"http://www.w3.org/2001/XMLSchema-instance\" xsi:schemaLocation=\"http://www.sitemaps.org/schemas/sitemap/0.9 http://www.sitemaps.org/schemas/sitemap/0.9/siteindex.xsd\">\n",
       "<sitemap>\n",
       "<loc>http://www.pngmart.com/site.xml</loc>\n",
       "<lastmod>2021-04-13T19:54:45Z</lastmod>\n",
       "</sitemap>\n",
       "<sitemap>\n",
       "<loc>http://www.pngmart.com/post_part1.xml</loc>\n",
       "<lastmod>2021-04-13T20:44:01Z</lastmod>\n",
       "</sitemap>\n",
       "<sitemap>\n",
       "<loc>http://www.pngmart.com/post_part2.xml</loc>\n",
       "<lastmod>2021-04-13T19:54:32Z</lastmod>\n",
       "</sitemap>\n",
       "<sitemap>\n",
       "<loc>http://www.pngmart.com/post_part3.xml</loc>\n",
       "<lastmod>2021-04-13T06:12:08Z</lastmod>\n",
       "</sitemap>\n",
       "<sitemap>\n",
       "<loc>http://www.pngmart.com/post_part4.xml</loc>\n",
       "<lastmod>2021-04-13T08:40:31Z</lastmod>\n",
       "</sitemap>\n",
       "<sitemap>\n",
       "<loc>http://www.pngmart.com/post_part5.xml</loc>\n",
       "<lastmod>2021-04-13T07:54:38Z</lastmod>\n",
       "</sitemap>\n",
       "<sitemap>\n",
       "<loc>http://www.pngmart.com/post_part6.xml</loc>\n",
       "<lastmod>2021-04-13T12:05:27Z</lastmod>\n",
       "</sitemap>\n",
       "<sitemap>\n",
       "<loc>http://www.pngmart.com/post_part7.xml</loc>\n",
       "<lastmod>2021-04-13T08:19:13Z</lastmod>\n",
       "</sitemap>\n",
       "<sitemap>\n",
       "<loc>http://www.pngmart.com/post_part8.xml</loc>\n",
       "<lastmod>2021-04-13T08:59:52Z</lastmod>\n",
       "</sitemap>\n",
       "<sitemap>\n",
       "<loc>http://www.pngmart.com/post_part9.xml</loc>\n",
       "<lastmod>2021-04-13T18:51:08Z</lastmod>\n",
       "</sitemap>\n",
       "<sitemap>\n",
       "<loc>http://www.pngmart.com/post_part10.xml</loc>\n",
       "<lastmod>2021-04-13T12:43:38Z</lastmod>\n",
       "</sitemap>\n",
       "<sitemap>\n",
       "<loc>http://www.pngmart.com/post_part11.xml</loc>\n",
       "<lastmod>2021-04-13T07:31:36Z</lastmod>\n",
       "</sitemap>\n",
       "<sitemap>\n",
       "<loc>http://www.pngmart.com/post_part12.xml</loc>\n",
       "<lastmod>2021-04-13T10:35:47Z</lastmod>\n",
       "</sitemap>\n",
       "<sitemap>\n",
       "<loc>http://www.pngmart.com/post_part13.xml</loc>\n",
       "<lastmod>2021-04-13T07:31:03Z</lastmod>\n",
       "</sitemap>\n",
       "<sitemap>\n",
       "<loc>http://www.pngmart.com/post_part14.xml</loc>\n",
       "<lastmod>2021-04-13T06:12:43Z</lastmod>\n",
       "</sitemap>\n",
       "<sitemap>\n",
       "<loc>http://www.pngmart.com/post_part15.xml</loc>\n",
       "<lastmod>2021-04-13T14:20:15Z</lastmod>\n",
       "</sitemap>\n",
       "<sitemap>\n",
       "<loc>http://www.pngmart.com/post_part16.xml</loc>\n",
       "<lastmod>2021-04-13T08:49:40Z</lastmod>\n",
       "</sitemap>\n",
       "<sitemap>\n",
       "<loc>http://www.pngmart.com/post_part17.xml</loc>\n",
       "<lastmod>2021-04-13T06:12:01Z</lastmod>\n",
       "</sitemap>\n",
       "<sitemap>\n",
       "<loc>http://www.pngmart.com/page.xml</loc>\n",
       "<lastmod>2021-04-13T14:30:41Z</lastmod>\n",
       "</sitemap>\n",
       "<sitemap>\n",
       "<loc>http://www.pngmart.com/taxonomy_category.xml</loc>\n",
       "<lastmod>2021-04-13T12:12:51Z</lastmod>\n",
       "</sitemap>\n",
       "<sitemap>\n",
       "<loc>http://www.pngmart.com/taxonomy_post_tag.xml</loc>\n",
       "<lastmod>2021-04-13T17:58:12Z</lastmod>\n",
       "</sitemap>\n",
       "</sitemapindex><!-- Generated by BWP Google XML Sitemaps 1.4.1 (c) 2021 Khang Minh - betterwp.net\n",
       "Plugin homepage: http://betterwp.net/wordpress-plugins/google-xml-sitemaps/ --><!-- This sitemap was originally generated in 0.004 second(s) (Memory usage: 1.34 MB) - 2 queries - 21 URL(s) listed -->"
      ]
     },
     "metadata": {},
     "execution_count": 5
    }
   ],
   "source": [
    "# so this text above contains xml data \n",
    "soup = BeautifulSoup(response.text, 'xml') #xml parser\n",
    "soup"
   ]
  },
  {
   "cell_type": "code",
   "execution_count": 6,
   "metadata": {},
   "outputs": [
    {
     "output_type": "stream",
     "name": "stdout",
     "text": [
      "http://www.pngmart.com/post_part1.xml\nhttp://www.pngmart.com/post_part2.xml\nhttp://www.pngmart.com/post_part3.xml\nhttp://www.pngmart.com/post_part4.xml\nhttp://www.pngmart.com/post_part5.xml\nhttp://www.pngmart.com/post_part6.xml\nhttp://www.pngmart.com/post_part7.xml\nhttp://www.pngmart.com/post_part8.xml\nhttp://www.pngmart.com/post_part9.xml\nhttp://www.pngmart.com/post_part10.xml\nhttp://www.pngmart.com/post_part11.xml\nhttp://www.pngmart.com/post_part12.xml\nhttp://www.pngmart.com/post_part13.xml\nhttp://www.pngmart.com/post_part14.xml\nhttp://www.pngmart.com/post_part15.xml\nhttp://www.pngmart.com/post_part16.xml\nhttp://www.pngmart.com/post_part17.xml\n"
     ]
    }
   ],
   "source": [
    "site_maps = list()\n",
    "for loc in soup.find_all('loc') :\n",
    "    url = loc.text\n",
    "    if 'part' in url:\n",
    "        site_maps.append(url)\n",
    "        print(url)"
   ]
  },
  {
   "cell_type": "code",
   "execution_count": 13,
   "metadata": {},
   "outputs": [
    {
     "output_type": "execute_result",
     "data": {
      "text/plain": [
       "['http://www.pngmart.com/post_part1.xml',\n",
       " 'http://www.pngmart.com/post_part2.xml',\n",
       " 'http://www.pngmart.com/post_part3.xml',\n",
       " 'http://www.pngmart.com/post_part4.xml',\n",
       " 'http://www.pngmart.com/post_part5.xml',\n",
       " 'http://www.pngmart.com/post_part6.xml',\n",
       " 'http://www.pngmart.com/post_part7.xml',\n",
       " 'http://www.pngmart.com/post_part8.xml',\n",
       " 'http://www.pngmart.com/post_part9.xml',\n",
       " 'http://www.pngmart.com/post_part10.xml',\n",
       " 'http://www.pngmart.com/post_part11.xml',\n",
       " 'http://www.pngmart.com/post_part12.xml',\n",
       " 'http://www.pngmart.com/post_part13.xml',\n",
       " 'http://www.pngmart.com/post_part14.xml',\n",
       " 'http://www.pngmart.com/post_part15.xml',\n",
       " 'http://www.pngmart.com/post_part16.xml',\n",
       " 'http://www.pngmart.com/post_part17.xml']"
      ]
     },
     "metadata": {},
     "execution_count": 13
    }
   ],
   "source": [
    "site_maps"
   ]
  },
  {
   "cell_type": "code",
   "execution_count": 14,
   "metadata": {},
   "outputs": [
    {
     "output_type": "execute_result",
     "data": {
      "text/plain": [
       "<Response [200]>"
      ]
     },
     "metadata": {},
     "execution_count": 14
    }
   ],
   "source": [
    "# check only 1 site map \n",
    "site_map_1 = site_maps[0]\n",
    "response = requests.get(site_map_1)\n",
    "response"
   ]
  },
  {
   "cell_type": "code",
   "execution_count": 15,
   "metadata": {},
   "outputs": [],
   "source": [
    "soup =BeautifulSoup(response.text, 'xml')\n",
    "#soup"
   ]
  },
  {
   "cell_type": "code",
   "execution_count": 16,
   "metadata": {},
   "outputs": [],
   "source": [
    "urls_list=list()\n",
    "for loc in soup.find_all('loc'):\n",
    "    url = loc.text\n",
    "    urls_list.append(url)"
   ]
  },
  {
   "cell_type": "code",
   "execution_count": 17,
   "metadata": {},
   "outputs": [
    {
     "output_type": "execute_result",
     "data": {
      "text/plain": [
       "['http://www.pngmart.com/image/270119',\n",
       " 'http://www.pngmart.com/image/270121',\n",
       " 'http://www.pngmart.com/image/270123',\n",
       " 'http://www.pngmart.com/image/270127',\n",
       " 'http://www.pngmart.com/image/270125']"
      ]
     },
     "metadata": {},
     "execution_count": 17
    }
   ],
   "source": [
    "urls_list[:5]"
   ]
  },
  {
   "cell_type": "code",
   "execution_count": 18,
   "metadata": {},
   "outputs": [
    {
     "output_type": "execute_result",
     "data": {
      "text/plain": [
       "'http://www.pngmart.com/image/270119'"
      ]
     },
     "metadata": {},
     "execution_count": 18
    }
   ],
   "source": [
    "#.content download the binary file\n",
    "urls_list[0]\n"
   ]
  },
  {
   "cell_type": "code",
   "execution_count": 23,
   "metadata": {
    "tags": []
   },
   "outputs": [
    {
     "output_type": "stream",
     "name": "stdout",
     "text": [
      "http://www.pngmart.com/image/270119\n",
      "http://www.pngmart.com/image/270119/png/270118\n",
      "http://www.pngmart.com/image/270119/png/270118\n"
     ]
    },
    {
     "output_type": "error",
     "ename": "ValueError",
     "evalue": "binary mode doesn't take an encoding argument",
     "traceback": [
      "\u001b[1;31m---------------------------------------------------------------------------\u001b[0m",
      "\u001b[1;31mValueError\u001b[0m                                Traceback (most recent call last)",
      "\u001b[1;32m<ipython-input-23-43873ece7881>\u001b[0m in \u001b[0;36m<module>\u001b[1;34m\u001b[0m\n\u001b[0;32m      9\u001b[0m     \u001b[0mprint\u001b[0m\u001b[1;33m(\u001b[0m\u001b[0mpng_url\u001b[0m\u001b[1;33m)\u001b[0m\u001b[1;33m\u001b[0m\u001b[1;33m\u001b[0m\u001b[0m\n\u001b[0;32m     10\u001b[0m     \u001b[0mimage_title\u001b[0m \u001b[1;33m=\u001b[0m \u001b[0mimage_url\u001b[0m\u001b[1;33m.\u001b[0m\u001b[0msplit\u001b[0m\u001b[1;33m(\u001b[0m\u001b[1;34m'/'\u001b[0m\u001b[1;33m)\u001b[0m\u001b[1;33m[\u001b[0m\u001b[1;33m-\u001b[0m\u001b[1;36m1\u001b[0m\u001b[1;33m]\u001b[0m \u001b[1;33m+\u001b[0m \u001b[0mpng_url\u001b[0m\u001b[1;33m.\u001b[0m\u001b[0msplit\u001b[0m\u001b[1;33m(\u001b[0m\u001b[1;34m'/'\u001b[0m\u001b[1;33m)\u001b[0m\u001b[1;33m[\u001b[0m\u001b[1;33m-\u001b[0m\u001b[1;36m1\u001b[0m\u001b[1;33m]\u001b[0m\u001b[1;33m+\u001b[0m\u001b[1;34m'.png'\u001b[0m\u001b[1;33m\u001b[0m\u001b[1;33m\u001b[0m\u001b[0m\n\u001b[1;32m---> 11\u001b[1;33m     \u001b[1;32mwith\u001b[0m \u001b[0mopen\u001b[0m\u001b[1;33m(\u001b[0m\u001b[1;34m'png/'\u001b[0m\u001b[1;33m+\u001b[0m\u001b[0mstr\u001b[0m\u001b[1;33m(\u001b[0m\u001b[0mimage_title\u001b[0m\u001b[1;33m)\u001b[0m\u001b[1;33m,\u001b[0m \u001b[1;34m'wb'\u001b[0m\u001b[1;33m,\u001b[0m \u001b[0mencoding\u001b[0m\u001b[1;33m=\u001b[0m\u001b[1;34m'utf-8'\u001b[0m\u001b[1;33m)\u001b[0m \u001b[1;32mas\u001b[0m \u001b[0mfile\u001b[0m \u001b[1;33m:\u001b[0m\u001b[1;33m\u001b[0m\u001b[1;33m\u001b[0m\u001b[0m\n\u001b[0m\u001b[0;32m     12\u001b[0m         \u001b[0mfile\u001b[0m\u001b[1;33m.\u001b[0m\u001b[0mwrite\u001b[0m\u001b[1;33m(\u001b[0m\u001b[0mimage\u001b[0m\u001b[1;33m.\u001b[0m\u001b[0mcontent\u001b[0m\u001b[1;33m)\u001b[0m\u001b[1;33m\u001b[0m\u001b[1;33m\u001b[0m\u001b[0m\n\u001b[0;32m     13\u001b[0m \u001b[1;33m\u001b[0m\u001b[0m\n",
      "\u001b[1;31mValueError\u001b[0m: binary mode doesn't take an encoding argument"
     ]
    }
   ],
   "source": [
    "# test only one image \n",
    "for image_url in urls_list[:10]:\n",
    "    print(image_url)                #page url \n",
    "    response = requests.get(image_url).text\n",
    "    soup = BeautifulSoup(response, 'html.parser')\n",
    "    png_url = soup.find('a', {'class':'download'})['href']  # ready to download \n",
    "    print(png_url)\n",
    "    image = requests.get(png_url)\n",
    "    print(png_url)\n",
    "    image_title = image_url.split('/')[-1] + png_url.split('/')[-1]+'.png'\n",
    "    with open('png/'+str(image_title), 'wb') as file :\n",
    "        file.write(image.content)\n",
    "\n",
    "    #break"
   ]
  },
  {
   "cell_type": "code",
   "execution_count": 16,
   "metadata": {},
   "outputs": [
    {
     "output_type": "execute_result",
     "data": {
      "text/plain": [
       "'http://www.pngmart.com/image/270119'"
      ]
     },
     "metadata": {},
     "execution_count": 16
    }
   ],
   "source": []
  },
  {
   "cell_type": "code",
   "execution_count": 17,
   "metadata": {},
   "outputs": [
    {
     "output_type": "execute_result",
     "data": {
      "text/plain": [
       "'http://www.pngmart.com/image/270119/png/270118'"
      ]
     },
     "metadata": {},
     "execution_count": 17
    }
   ],
   "source": []
  },
  {
   "cell_type": "code",
   "execution_count": 23,
   "metadata": {},
   "outputs": [],
   "source": [
    "image_title = image_url.split('/')[-1] + png_url.split('/')[-1]"
   ]
  },
  {
   "cell_type": "code",
   "execution_count": 24,
   "metadata": {},
   "outputs": [
    {
     "output_type": "execute_result",
     "data": {
      "text/plain": [
       "'270119270118'"
      ]
     },
     "metadata": {},
     "execution_count": 24
    }
   ],
   "source": [
    "with open('image_title.pgn', 'wb') as file :\r\n",
    "    file.write(png_url.content)\r\n"
   ]
  },
  {
   "cell_type": "code",
   "execution_count": null,
   "metadata": {},
   "outputs": [],
   "source": []
  }
 ]
}