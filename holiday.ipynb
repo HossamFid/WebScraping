{
 "metadata": {
  "language_info": {
   "codemirror_mode": {
    "name": "ipython",
    "version": 3
   },
   "file_extension": ".py",
   "mimetype": "text/x-python",
   "name": "python",
   "nbconvert_exporter": "python",
   "pygments_lexer": "ipython3",
   "version": "3.8.7"
  },
  "orig_nbformat": 2,
  "kernelspec": {
   "name": "python387jvsc74a57bd0acf59f75cb9e70e1ca1c95d85d91fc5c10f6db84a836b13dab680cfa3d83cbbb",
   "display_name": "Python 3.8.7 64-bit"
  }
 },
 "nbformat": 4,
 "nbformat_minor": 2,
 "cells": [
  {
   "cell_type": "code",
   "execution_count": 1,
   "metadata": {},
   "outputs": [
    {
     "output_type": "stream",
     "name": "stdout",
     "text": [
      "done\n"
     ]
    }
   ],
   "source": [
    "import requests\n",
    "from bs4 import BeautifulSoup\n",
    "import time \n",
    "import pandas as pd \n",
    "print('done')"
   ]
  },
  {
   "cell_type": "code",
   "execution_count": 3,
   "metadata": {},
   "outputs": [
    {
     "output_type": "stream",
     "name": "stdout",
     "text": [
      "<Response [200]>\n",
      "90\n",
      "<Response [200]>\n",
      "180\n",
      "<Response [200]>\n",
      "270\n",
      "<Response [200]>\n",
      "360\n",
      "<Response [200]>\n",
      "450\n",
      "<Response [200]>\n",
      "540\n",
      "<Response [200]>\n",
      "630\n",
      "<Response [200]>\n",
      "720\n",
      "<Response [200]>\n",
      "810\n",
      "<Response [200]>\n",
      "900\n",
      "900\n"
     ]
    }
   ],
   "source": [
    "# r.text is the content of the response in Unicode, and r.content is the content of the response in bytes\n",
    "\n",
    "holiday_homes = []\n",
    "\n",
    "#url = 'https://www.holidayfrancedirect.co.uk/cottages-holidays/index.htm?board=sc&d=France&people=2&prop_type%5B0%5D=cottagegite&page='\n",
    "pages = range(1,11)\n",
    "\n",
    "for page in pages:\n",
    "    url = 'https://www.holidayfrancedirect.co.uk/cottages-holidays/index.htm?board=sc&d=France&people=2&prop_type%5B0%5D=cottagegite&page='\n",
    "\n",
    "    response = requests.get(url+str(page))\n",
    "    print(response)\n",
    "    soup = BeautifulSoup(response.content, 'html.parser')\n",
    "    content = soup.find_all('div', class_=\"property-grid-item\")\n",
    "\n",
    "    for item in content :\n",
    "        name = item.find('h2').text\n",
    "        spec = item.find('p', class_='property-spec').text\n",
    "        price = item.find('div', class_='property-pricing').text\n",
    "        \n",
    "\n",
    "\n",
    "        properties ={'name':name ,\n",
    "                    'spec': spec, \n",
    "                    'price': price}\n",
    "\n",
    "        holiday_homes.append(properties)\n",
    "        #time.sleep(3)\n",
    "    print(len(holiday_homes))    \n",
    "print(len(holiday_homes))"
   ]
  },
  {
   "cell_type": "code",
   "execution_count": 5,
   "metadata": {},
   "outputs": [
    {
     "output_type": "execute_result",
     "data": {
      "text/plain": [
       "                                                name  \\\n",
       "0   Cottage for holiday let Deux Sevres - PS003844_A   \n",
       "1  Holiday cottage in Briquebec town, Normandy - ...   \n",
       "2   Holiday let 4km from the Vendée coast - LV004385   \n",
       "3  Stylish 2 bedroom gite to let, rural Dordogne ...   \n",
       "4  Stunning water Mill to let in Normandy - NM007149   \n",
       "\n",
       "                                      spec             price  \n",
       "0  Bedrooms 4, Sleeps 10, Ratings 1 9.5/10   £550 to £810 pw  \n",
       "1     Bedrooms 2, Sleeps 4, Ratings 5 9/10   £275 to £395 pw  \n",
       "2  Bedrooms 2, Sleeps 5, Ratings 10 9.6/10   £345 to £645 pw  \n",
       "3                     Bedrooms 2, Sleeps 4  £875 to £2950 pw  \n",
       "4   Bedrooms 3, Sleeps 6, Ratings 2 8.9/10   £735 to £925 pw  "
      ],
      "text/html": "<div>\n<style scoped>\n    .dataframe tbody tr th:only-of-type {\n        vertical-align: middle;\n    }\n\n    .dataframe tbody tr th {\n        vertical-align: top;\n    }\n\n    .dataframe thead th {\n        text-align: right;\n    }\n</style>\n<table border=\"1\" class=\"dataframe\">\n  <thead>\n    <tr style=\"text-align: right;\">\n      <th></th>\n      <th>name</th>\n      <th>spec</th>\n      <th>price</th>\n    </tr>\n  </thead>\n  <tbody>\n    <tr>\n      <th>0</th>\n      <td>Cottage for holiday let Deux Sevres - PS003844_A</td>\n      <td>Bedrooms 4, Sleeps 10, Ratings 1 9.5/10</td>\n      <td>£550 to £810 pw</td>\n    </tr>\n    <tr>\n      <th>1</th>\n      <td>Holiday cottage in Briquebec town, Normandy - ...</td>\n      <td>Bedrooms 2, Sleeps 4, Ratings 5 9/10</td>\n      <td>£275 to £395 pw</td>\n    </tr>\n    <tr>\n      <th>2</th>\n      <td>Holiday let 4km from the Vendée coast - LV004385</td>\n      <td>Bedrooms 2, Sleeps 5, Ratings 10 9.6/10</td>\n      <td>£345 to £645 pw</td>\n    </tr>\n    <tr>\n      <th>3</th>\n      <td>Stylish 2 bedroom gite to let, rural Dordogne ...</td>\n      <td>Bedrooms 2, Sleeps 4</td>\n      <td>£875 to £2950 pw</td>\n    </tr>\n    <tr>\n      <th>4</th>\n      <td>Stunning water Mill to let in Normandy - NM007149</td>\n      <td>Bedrooms 3, Sleeps 6, Ratings 2 8.9/10</td>\n      <td>£735 to £925 pw</td>\n    </tr>\n  </tbody>\n</table>\n</div>"
     },
     "metadata": {},
     "execution_count": 5
    }
   ],
   "source": [
    "data = pd.DataFrame(holiday_homes)\n",
    "data.head()\n"
   ]
  },
  {
   "cell_type": "code",
   "execution_count": 6,
   "metadata": {},
   "outputs": [],
   "source": [
    "data.to_csv('holidayhomes.csv')"
   ]
  },
  {
   "cell_type": "code",
   "execution_count": null,
   "metadata": {},
   "outputs": [],
   "source": []
  }
 ]
}