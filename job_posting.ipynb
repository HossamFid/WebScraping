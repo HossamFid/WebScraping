{
 "cells": [
  {
   "cell_type": "code",
   "execution_count": 1,
   "id": "prime-parking",
   "metadata": {},
   "outputs": [],
   "source": [
    "# scraping times_jobs website for data analysis  job posting \n",
    "\n",
    "from bs4 import BeautifulSoup \n",
    "import requests \n",
    "import time\n",
    "\n",
    "#connect\n",
    "#job_posting = requests.get('https://www.timesjobs.com/candidate/job-search.html?searchType=personalizedSearch&from=submit&txtKeywords=data+analysis&txtLocation=').text\n",
    "\n",
    "#print(job_posting)\n",
    "\n",
    "# lets prettify myhtml and work with its tags like python objects using BeautifulSoup \n",
    "\n",
    "#soup = BeautifulSoup(job_posting, 'lxml')  # parser\n"
   ]
  },
  {
   "cell_type": "code",
   "execution_count": 6,
   "id": "abstract-jefferson",
   "metadata": {},
   "outputs": [
    {
     "output_type": "stream",
     "name": "stdout",
     "text": [
      "enter skills u dont know about \n",
      "filtering out results ......\n"
     ]
    }
   ],
   "source": [
    "# now lets inspect our HTML tags to get some info.\n",
    "# after inspecting and knowing our tags and classes we use find & find_all to search to get an element or all elements \n",
    "# find_all returns a list\n",
    "# .text returns content of tag \n",
    "\n",
    "\n",
    "\n",
    "# filterout the skills that user dont know about \n",
    "print('enter skills u dont know about ')\n",
    "no_skills = input('>')\n",
    "print('filtering out results ......')\n",
    "\n",
    "def job_posting():\n",
    "    #connect\n",
    "    job_posting = requests.get('https://www.timesjobs.com/candidate/job-search.html?searchType=personalizedSearch&from=submit&txtKeywords=data+analysis&txtLocation=').text\n",
    "\n",
    "    #print(job_posting)\n",
    "\n",
    "    # lets prettify myhtml and work with its tags like python objects using BeautifulSoup \n",
    "\n",
    "    soup = BeautifulSoup(job_posting, 'lxml')  # parser\n",
    "\n",
    "\n",
    "    jobs= soup.find_all('li', class_='clearfix job-bx wht-shd-bx')\n",
    "\n",
    "    for index, job in enumerate(jobs):\n",
    "\n",
    "        # just get the recent job posting \n",
    "\n",
    "        few_days = job.find('span', class_='sim-posted').span.text\n",
    "\n",
    "        if 'few' in few_days:\n",
    "\n",
    "            company_name = job.find('h3', class_='joblist-comp-name').text.strip()\n",
    "            skills = job.find('span', class_='srp-skills').text.strip()\n",
    "            more_info = job.h2.a['href']\n",
    "            desc = job.find('ul', class_='list-job-dtl clearfix').text.strip().split(':')[2:]\n",
    "            for line in desc:\n",
    "               line_desc = line.replace('\\n',\"\").lstrip()\n",
    "\n",
    "            if no_skills not in skills : \n",
    "                with open(f'posts/{index}.txt','w') as file :\n",
    "\n",
    "                    file.write(f'CompanyName: {company_name}\\n')\n",
    "                    file.write(f'Skills: {skills}\\n')\n",
    "                    file.write(f'JobDescription: {line_desc}\\n')\n",
    "                    file.write(f'MoreInfo.: {more_info}\\n')\n",
    "                  \n",
    "                print(f'file saved {index}')\n"
   ]
  },
  {
   "cell_type": "code",
   "execution_count": 5,
   "id": "coordinate-publicity",
   "metadata": {},
   "outputs": [
    {
     "output_type": "error",
     "ename": "TypeError",
     "evalue": "write() takes exactly one argument (2 given)",
     "traceback": [
      "\u001b[1;31m---------------------------------------------------------------------------\u001b[0m",
      "\u001b[1;31mTypeError\u001b[0m                                 Traceback (most recent call last)",
      "\u001b[1;32m<ipython-input-5-551d32536a6d>\u001b[0m in \u001b[0;36m<module>\u001b[1;34m\u001b[0m\n\u001b[0;32m      1\u001b[0m \u001b[1;32mif\u001b[0m \u001b[0m__name__\u001b[0m \u001b[1;33m==\u001b[0m\u001b[1;34m'__main__'\u001b[0m\u001b[1;33m:\u001b[0m\u001b[1;33m\u001b[0m\u001b[1;33m\u001b[0m\u001b[0m\n\u001b[1;32m----> 2\u001b[1;33m     \u001b[0mjob_posting\u001b[0m\u001b[1;33m(\u001b[0m\u001b[1;33m)\u001b[0m\u001b[1;33m\u001b[0m\u001b[1;33m\u001b[0m\u001b[0m\n\u001b[0m\u001b[0;32m      3\u001b[0m     \u001b[0mtime_to_wait\u001b[0m \u001b[1;33m=\u001b[0m \u001b[1;36m10\u001b[0m\u001b[1;33m\u001b[0m\u001b[1;33m\u001b[0m\u001b[0m\n\u001b[0;32m      4\u001b[0m     \u001b[0mprint\u001b[0m\u001b[1;33m(\u001b[0m\u001b[1;34mf'waiting time {time_to_wait } minutes.... be patient <3  '\u001b[0m\u001b[1;33m)\u001b[0m\u001b[1;33m\u001b[0m\u001b[1;33m\u001b[0m\u001b[0m\n\u001b[0;32m      5\u001b[0m     \u001b[0mtime\u001b[0m\u001b[1;33m.\u001b[0m\u001b[0msleep\u001b[0m\u001b[1;33m(\u001b[0m\u001b[0mtime_to_wait\u001b[0m \u001b[1;33m*\u001b[0m \u001b[1;36m60\u001b[0m\u001b[1;33m)\u001b[0m\u001b[1;33m\u001b[0m\u001b[1;33m\u001b[0m\u001b[0m\n",
      "\u001b[1;32m<ipython-input-4-af7bca5265d4>\u001b[0m in \u001b[0;36mjob_posting\u001b[1;34m()\u001b[0m\n\u001b[0;32m     43\u001b[0m \u001b[1;33m\u001b[0m\u001b[0m\n\u001b[0;32m     44\u001b[0m                     \u001b[0mfile\u001b[0m\u001b[1;33m.\u001b[0m\u001b[0mwrite\u001b[0m\u001b[1;33m(\u001b[0m\u001b[1;34mf'CompanyName: {company_name}\\n'\u001b[0m\u001b[1;33m)\u001b[0m\u001b[1;33m\u001b[0m\u001b[1;33m\u001b[0m\u001b[0m\n\u001b[1;32m---> 45\u001b[1;33m                     \u001b[0mfile\u001b[0m\u001b[1;33m.\u001b[0m\u001b[0mwrite\u001b[0m\u001b[1;33m(\u001b[0m\u001b[1;34mf'Skills: {skills}'\u001b[0m\u001b[1;33m,\u001b[0m\u001b[1;34m'\\n'\u001b[0m\u001b[1;33m)\u001b[0m\u001b[1;33m\u001b[0m\u001b[1;33m\u001b[0m\u001b[0m\n\u001b[0m\u001b[0;32m     46\u001b[0m                     \u001b[0mfile\u001b[0m\u001b[1;33m.\u001b[0m\u001b[0mwrite\u001b[0m\u001b[1;33m(\u001b[0m\u001b[1;34mf'JobDescription: {line_desc}\\n'\u001b[0m\u001b[1;33m)\u001b[0m\u001b[1;33m\u001b[0m\u001b[1;33m\u001b[0m\u001b[0m\n\u001b[0;32m     47\u001b[0m                     \u001b[0mfile\u001b[0m\u001b[1;33m.\u001b[0m\u001b[0mwrite\u001b[0m\u001b[1;33m(\u001b[0m\u001b[1;34mf'MoreInfo.: {more_info}\\n'\u001b[0m\u001b[1;33m)\u001b[0m\u001b[1;33m\u001b[0m\u001b[1;33m\u001b[0m\u001b[0m\n",
      "\u001b[1;31mTypeError\u001b[0m: write() takes exactly one argument (2 given)"
     ]
    }
   ],
   "source": [
    "if __name__ =='__main__':\n",
    "    job_posting()\n",
    "    time_to_wait = 10\n",
    "    print(f'waiting time {time_to_wait } minutes.... be patient <3  ')\n",
    "    time.sleep(time_to_wait * 60)"
   ]
  },
  {
   "cell_type": "code",
   "execution_count": 1,
   "id": "historical-registrar",
   "metadata": {},
   "outputs": [
    {
     "name": "stderr",
     "output_type": "stream",
     "text": [
      "[NbConvertApp] WARNING | Config option `template_path` not recognized by `ScriptExporter`.  Did you mean one of: `extra_template_paths, template_name, template_paths`?\n",
      "Traceback (most recent call last):\n",
      "  File \"c:\\users\\s10y01r\\appdata\\local\\programs\\python\\python38\\lib\\runpy.py\", line 194, in _run_module_as_main\n",
      "    return _run_code(code, main_globals, None,\n",
      "  File \"c:\\users\\s10y01r\\appdata\\local\\programs\\python\\python38\\lib\\runpy.py\", line 87, in _run_code\n",
      "    exec(code, run_globals)\n",
      "  File \"C:\\Users\\S10y01r\\AppData\\Local\\Programs\\Python\\Python38\\Scripts\\jupyter-nbconvert.EXE\\__main__.py\", line 7, in <module>\n",
      "  File \"c:\\users\\s10y01r\\appdata\\local\\programs\\python\\python38\\lib\\site-packages\\jupyter_core\\application.py\", line 254, in launch_instance\n",
      "    return super(JupyterApp, cls).launch_instance(argv=argv, **kwargs)\n",
      "  File \"c:\\users\\s10y01r\\appdata\\local\\programs\\python\\python38\\lib\\site-packages\\traitlets\\config\\application.py\", line 845, in launch_instance\n",
      "    app.start()\n",
      "  File \"c:\\users\\s10y01r\\appdata\\local\\programs\\python\\python38\\lib\\site-packages\\nbconvert\\nbconvertapp.py\", line 350, in start\n",
      "    self.convert_notebooks()\n",
      "  File \"c:\\users\\s10y01r\\appdata\\local\\programs\\python\\python38\\lib\\site-packages\\nbconvert\\nbconvertapp.py\", line 519, in convert_notebooks\n",
      "    self.exporter = cls(config=self.config)\n",
      "  File \"c:\\users\\s10y01r\\appdata\\local\\programs\\python\\python38\\lib\\site-packages\\nbconvert\\exporters\\templateexporter.py\", line 325, in __init__\n",
      "    super().__init__(config=config, **kw)\n",
      "  File \"c:\\users\\s10y01r\\appdata\\local\\programs\\python\\python38\\lib\\site-packages\\nbconvert\\exporters\\exporter.py\", line 114, in __init__\n",
      "    self._init_preprocessors()\n",
      "  File \"c:\\users\\s10y01r\\appdata\\local\\programs\\python\\python38\\lib\\site-packages\\nbconvert\\exporters\\templateexporter.py\", line 490, in _init_preprocessors\n",
      "    super()._init_preprocessors()\n",
      "  File \"c:\\users\\s10y01r\\appdata\\local\\programs\\python\\python38\\lib\\site-packages\\nbconvert\\exporters\\exporter.py\", line 266, in _init_preprocessors\n",
      "    self.register_preprocessor(preprocessor, enabled=True)\n",
      "  File \"c:\\users\\s10y01r\\appdata\\local\\programs\\python\\python38\\lib\\site-packages\\nbconvert\\exporters\\exporter.py\", line 227, in register_preprocessor\n",
      "    preprocessor_cls = import_item(preprocessor)\n",
      "  File \"c:\\users\\s10y01r\\appdata\\local\\programs\\python\\python38\\lib\\site-packages\\traitlets\\utils\\importstring.py\", line 30, in import_item\n",
      "    module = __import__(package, fromlist=[obj])\n",
      "ModuleNotFoundError: No module named 'jupyter_contrib_nbextensions'\n"
     ]
    }
   ],
   "source": []
  },
  {
   "cell_type": "code",
   "execution_count": null,
   "id": "considered-operation",
   "metadata": {},
   "outputs": [],
   "source": []
  }
 ],
 "metadata": {
  "kernelspec": {
   "name": "python387jvsc74a57bd0acf59f75cb9e70e1ca1c95d85d91fc5c10f6db84a836b13dab680cfa3d83cbbb",
   "display_name": "Python 3.8.7 64-bit"
  },
  "language_info": {
   "codemirror_mode": {
    "name": "ipython",
    "version": 3
   },
   "file_extension": ".py",
   "mimetype": "text/x-python",
   "name": "python",
   "nbconvert_exporter": "python",
   "pygments_lexer": "ipython3",
   "version": "3.8.7"
  }
 },
 "nbformat": 4,
 "nbformat_minor": 5
}