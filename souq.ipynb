{
 "metadata": {
  "language_info": {
   "codemirror_mode": {
    "name": "ipython",
    "version": 3
   },
   "file_extension": ".py",
   "mimetype": "text/x-python",
   "name": "python",
   "nbconvert_exporter": "python",
   "pygments_lexer": "ipython3",
   "version": "3.8.7"
  },
  "orig_nbformat": 2,
  "kernelspec": {
   "name": "python387jvsc74a57bd0acf59f75cb9e70e1ca1c95d85d91fc5c10f6db84a836b13dab680cfa3d83cbbb",
   "display_name": "Python 3.8.7 64-bit"
  }
 },
 "nbformat": 4,
 "nbformat_minor": 2,
 "cells": [
  {
   "cell_type": "code",
   "execution_count": 1,
   "metadata": {},
   "outputs": [],
   "source": [
    "import requests\n",
    "from bs4 import BeautifulSoup"
   ]
  },
  {
   "cell_type": "code",
   "execution_count": 3,
   "metadata": {},
   "outputs": [
    {
     "output_type": "execute_result",
     "data": {
      "text/plain": [
       "'OK'"
      ]
     },
     "metadata": {},
     "execution_count": 3
    }
   ],
   "source": [
    "response = requests.get('https://deals.souq.com/eg-en/?utm_source=souq&fbclid=IwAR3OHbGw45aqHtZSgTeS9mkNQBR0nQsPGKQH2XWDvwlBZvZjX8EA9_qGSgo')\n",
    "response.reason"
   ]
  },
  {
   "cell_type": "code",
   "execution_count": 43,
   "metadata": {},
   "outputs": [
    {
     "output_type": "stream",
     "name": "stdout",
     "text": [
      "Hometown Waterproof Standard Bean Bag \n450.00\n76%\n46% OFF\n239.00\nhttps://egypt.souq.com/eg-en/hometown-waterproof-standard-bean-bag-90-x-75-cm-yellow-7098800131/u/\n"
     ]
    }
   ],
   "source": [
    "soup = BeautifulSoup(response.text, 'lxml')\n",
    "#master = soup.find_all('div',{'class':'unit-grid'})\n",
    "item_title = soup.find('span',{'class':'itemTitle'}).text.strip().split('-')[0]\n",
    "after_discount = soup.find('span' , {'class': 'is block sk-clr1'}).text.strip().split('\\n')[0]\n",
    "price = soup.find('span', {'class':\"was block\"}).text.split('\\n')[0]\n",
    "discount = soup.find('span', {\"class\":'discount'}).text\n",
    "rating = soup.find('i' ,'star-rating-svg').i['style'].split(':')[-1]\n",
    "product_url = soup.find('span','itemTitle').a['href']\n",
    "\n",
    "info = [item_title  ,price, rating , discount,  after_discount, product_url ]\n",
    "for i in info :\n",
    "  print(i)"
   ]
  },
  {
   "cell_type": "code",
   "execution_count": 52,
   "metadata": {},
   "outputs": [
    {
     "output_type": "execute_result",
     "data": {
      "text/plain": [
       "'Description:        \\n\\n\\nBrand: HometownType: BeanbagSize: 90 x 75 cmColor: YellowWater-Proof materialSuitable for indoors and outdoors use.Comfortable, portable and conveniently sized bean bag for one person.'"
      ]
     },
     "metadata": {},
     "execution_count": 52
    }
   ],
   "source": [
    "response = requests.get(product_url).text\r\n",
    "soup = BeautifulSoup(response,'lxml')\r\n",
    "\r\n",
    "item_description = soup.find('div',{'class':'item-details-mini clearfix'}).text.strip()"
   ]
  },
  {
   "cell_type": "code",
   "execution_count": 84,
   "metadata": {},
   "outputs": [
    {
     "output_type": "execute_result",
     "data": {
      "text/plain": [
       "'27'"
      ]
     },
     "metadata": {},
     "execution_count": 84
    }
   ],
   "source": [
    "reviews_count = soup.find('span','listing-page-number show_reviews_number').text.strip().replace('(','').replace(')','')\n",
    "reviews_count"
   ]
  },
  {
   "cell_type": "code",
   "execution_count": 76,
   "metadata": {},
   "outputs": [
    {
     "output_type": "execute_result",
     "data": {
      "text/plain": [
       "[<li class=\"level-1\" id=\"specs\">\n",
       " <span id=\"Specs\"> </span>\n",
       " <h4>Specifications</h4>\n",
       " <div id=\"specs-short\">\n",
       " <dl class=\"stats\">\n",
       " <dt>Brand</dt><dd>Hometown</dd><div class=\"clearfix\"></div><dt>Package thickness</dt><dd>93 centimeters</dd><div class=\"clearfix\"></div><dt>Depth</dt><dd>92 centimeters</dd><div class=\"clearfix\"></div><dt>Package weight in KGs</dt><dd>10000 grams</dd><div class=\"clearfix\"></div> </dl>\n",
       " </div>\n",
       " <div class=\"hide\" id=\"specs-full\">\n",
       " <dl class=\"stats\">\n",
       " <dt>Brand</dt><dd>Hometown</dd><div class=\"clearfix\"></div><dt>Package thickness</dt><dd>93 centimeters</dd><div class=\"clearfix\"></div><dt>Depth</dt><dd>92 centimeters</dd><div class=\"clearfix\"></div><dt>Package weight in KGs</dt><dd>10000 grams</dd><div class=\"clearfix\"></div><dt>Height</dt><dd>75 centimeters</dd><div class=\"clearfix\"></div><dt>Width</dt><dd>90 centimeters</dd><div class=\"clearfix\"></div><dt>Material</dt><dd>PVC</dd><div class=\"clearfix\"></div><dt>Product weight</dt><dd>3.5 kg</dd><div class=\"clearfix\"></div><dt>Type</dt><dd>Beanbag Chair</dd><div class=\"clearfix\"></div><dt>EAN-13</dt><dd>6222019539577</dd><div class=\"clearfix\"></div><dt>Expirable</dt><dd><i class=\"fi-x\"></i></dd><div class=\"clearfix\"></div><dt>External Product ID Type</dt><dd>EAN-13</dd><div class=\"clearfix\"></div><dt>Package height</dt><dd>75 centimeters</dd><div class=\"clearfix\"></div><dt>Package Width</dt><dd>90 centimeters</dd><div class=\"clearfix\"></div><dt>Package Length</dt><dd>93 centimeters</dd><div class=\"clearfix\"></div><dt>Serial Scan Required</dt><dd><i class=\"fi-x\"></i></dd><div class=\"clearfix\"></div><dt>Item EAN</dt><dd>2725443975828</dd><div class=\"clearfix\"></div><h5 class=\"stats-title\"><i class=\"fi-clipboard-notes\"></i>Color</h5><dt>Color</dt><dd>Yellow</dd><div class=\"clearfix\"></div> </dl>\n",
       " </div>\n",
       " <a class=\"expand hide readmore specs\" data-readmore=\"specs\" href=\"javascript:void(0);\">Read more</a>\n",
       " </li>,\n",
       " <li class=\"level-1 clearfix\" id=\"description\">\n",
       " <span id=\"Description\"> </span>\n",
       " <h4>Description:</h4>\n",
       " <article>\n",
       " <div class=\"\" id=\"description-short\">\n",
       " <ul><li>Brand: Hometown</li><li>Type: Beanbag</li><li>Size: 90 x 75 cm</li><li>Color: Yellow</li><li>Water-Proof material</li><li>Suitable for indoors and outdoors use.</li><li>Comfortable, portable and conveniently sized bean bag for one person.</li></ul>\n",
       " </div>\n",
       " </article>\n",
       " </li>,\n",
       " <li class=\"level-1\" data-review=\"5610995\">\n",
       " <header class=\"clearfix\">\n",
       " <div class=\"clearfix space\">\n",
       " <span class=\"default-float\">\n",
       " <i class=\"star-rating-svg\"><i style=\"width:20%\"></i></i>\n",
       " </span>\n",
       " <div class=\"clearfix opposite-direction\">\n",
       " <div class=\"purchasedBadge clearPadding-h show-for-medium opposite-direction clearfix\">\n",
       " <span class=\"label secondary\">Purchased on Souq.com</span>\n",
       " </div>\n",
       " </div>\n",
       " </div>\n",
       " <div class=\"clearfix space by-date\">\n",
       " <span>By <strong>user-M6K8RB</strong></span>\n",
       " <span>on </span><span class=\"date\">28 September 2020</span>\n",
       " </div>\n",
       " </header>\n",
       " <article>\n",
       " <p>very very very poor product\n",
       " teared apart after 12 days</p>\n",
       " </article>\n",
       " <div>\n",
       " <input id=\"id_item_review\" name=\"id_item_review\" prefix=\"\" type=\"hidden\" value=\"5610995\"/> <div></div>\n",
       " <ul class=\"menu reviewInlineList\">\n",
       " <li><a class=\"expand helpful\" data-is-helpful=\"yes\" data-review=\"5610995\" href=\"javascript:void(0);\"><i class=\"fi-like\"></i> Helpful</a></li>\n",
       " <li><a class=\"expand not-helpful\" data-is-helpful=\"no\" data-review=\"5610995\" href=\"javascript:void(0);\"><i class=\"fi-unlike\"></i> Not Helpful</a></li>\n",
       " </ul>\n",
       " </div>\n",
       " </li>,\n",
       " <li class=\"level-1\" data-review=\"5309333\">\n",
       " <header class=\"clearfix\">\n",
       " <div class=\"clearfix space\">\n",
       " <span class=\"default-float\">\n",
       " <i class=\"star-rating-svg\"><i style=\"width:100%\"></i></i>\n",
       " </span>\n",
       " <div class=\"clearfix opposite-direction\">\n",
       " <div class=\"purchasedBadge clearPadding-h show-for-medium opposite-direction clearfix\">\n",
       " <span class=\"label secondary\">Purchased on Souq.com</span>\n",
       " </div>\n",
       " </div>\n",
       " </div>\n",
       " <div class=\"clearfix space by-date\">\n",
       " <span>By <strong>user-MWC15A1</strong></span>\n",
       " <span>on </span><span class=\"date\">28 April 2020</span>\n",
       " </div>\n",
       " </header>\n",
       " <article>\n",
       " <p>Nice one but the color is actually orange</p>\n",
       " </article>\n",
       " <div>\n",
       " <input id=\"id_item_review\" name=\"id_item_review\" prefix=\"\" type=\"hidden\" value=\"5309333\"/> <div></div>\n",
       " <ul class=\"menu reviewInlineList\">\n",
       " <li><a class=\"expand helpful\" data-is-helpful=\"yes\" data-review=\"5309333\" href=\"javascript:void(0);\"><i class=\"fi-like\"></i> Helpful</a></li>\n",
       " <li><a class=\"expand not-helpful\" data-is-helpful=\"no\" data-review=\"5309333\" href=\"javascript:void(0);\"><i class=\"fi-unlike\"></i> Not Helpful</a></li>\n",
       " </ul>\n",
       " </div>\n",
       " </li>,\n",
       " <li class=\"level-1\" data-review=\"5290946\">\n",
       " <header class=\"clearfix\">\n",
       " <div class=\"clearfix space\">\n",
       " <span class=\"default-float\">\n",
       " <i class=\"star-rating-svg\"><i style=\"width:100%\"></i></i>\n",
       " </span>\n",
       " <div class=\"clearfix opposite-direction\">\n",
       " <div class=\"purchasedBadge clearPadding-h show-for-medium opposite-direction clearfix\">\n",
       " <span class=\"label secondary\">Purchased on Souq.com</span>\n",
       " </div>\n",
       " </div>\n",
       " </div>\n",
       " <div class=\"clearfix space by-date\">\n",
       " <span>By <strong>user-M7TL7C1</strong></span>\n",
       " <span>on </span><span class=\"date\">21 April 2020</span>\n",
       " </div>\n",
       " </header>\n",
       " <article>\n",
       " <p>It's big and comfy and the color is vibrant, i love it</p>\n",
       " </article>\n",
       " <div>\n",
       " <input id=\"id_item_review\" name=\"id_item_review\" prefix=\"\" type=\"hidden\" value=\"5290946\"/> <div></div>\n",
       " <ul class=\"menu reviewInlineList\">\n",
       " <li><a class=\"expand helpful\" data-is-helpful=\"yes\" data-review=\"5290946\" href=\"javascript:void(0);\"><i class=\"fi-like\"></i> Helpful</a></li>\n",
       " <li><a class=\"expand not-helpful\" data-is-helpful=\"no\" data-review=\"5290946\" href=\"javascript:void(0);\"><i class=\"fi-unlike\"></i> Not Helpful</a></li>\n",
       " </ul>\n",
       " </div>\n",
       " </li>,\n",
       " <li class=\"level-1\" data-review=\"5789457\">\n",
       " <header class=\"clearfix\">\n",
       " <div class=\"clearfix space\">\n",
       " <span class=\"default-float\">\n",
       " <i class=\"star-rating-svg\"><i style=\"width:40%\"></i></i>\n",
       " </span>\n",
       " <div class=\"clearfix opposite-direction\">\n",
       " <div class=\"purchasedBadge clearPadding-h show-for-medium opposite-direction clearfix\">\n",
       " <span class=\"label secondary\">Purchased on Souq.com</span>\n",
       " </div>\n",
       " </div>\n",
       " </div>\n",
       " <div class=\"clearfix space by-date\">\n",
       " <span>By <strong>user-M5ZZAK1</strong></span>\n",
       " <span>on </span><span class=\"date\">18 January 2021</span>\n",
       " </div>\n",
       " </header>\n",
       " <article>\n",
       " <p>القماش ضعيف و اتقطع بعد استخدام شهر بالجزء السفلي</p>\n",
       " </article>\n",
       " <div>\n",
       " <input id=\"id_item_review\" name=\"id_item_review\" prefix=\"\" type=\"hidden\" value=\"5789457\"/> <div></div>\n",
       " <ul class=\"menu reviewInlineList\">\n",
       " <li><a class=\"expand helpful\" data-is-helpful=\"yes\" data-review=\"5789457\" href=\"javascript:void(0);\"><i class=\"fi-like\"></i> Helpful</a></li>\n",
       " <li><a class=\"expand not-helpful\" data-is-helpful=\"no\" data-review=\"5789457\" href=\"javascript:void(0);\"><i class=\"fi-unlike\"></i> Not Helpful</a></li>\n",
       " </ul>\n",
       " </div>\n",
       " </li>,\n",
       " <li class=\"level-1\" data-review=\"5706817\">\n",
       " <header class=\"clearfix\">\n",
       " <div class=\"clearfix space\">\n",
       " <span class=\"default-float\">\n",
       " <i class=\"star-rating-svg\"><i style=\"width:40%\"></i></i>\n",
       " </span>\n",
       " <div class=\"clearfix opposite-direction\">\n",
       " <div class=\"purchasedBadge clearPadding-h show-for-medium opposite-direction clearfix\">\n",
       " <span class=\"label secondary\">Purchased on Souq.com</span>\n",
       " </div>\n",
       " </div>\n",
       " </div>\n",
       " <div class=\"clearfix space by-date\">\n",
       " <span>By <strong>epemichael</strong></span>\n",
       " <span>on </span><span class=\"date\">30 November 2020</span>\n",
       " </div>\n",
       " </header>\n",
       " <article>\n",
       " <p>The yellow color is not the same degree in the same product, I ordered 2 yellow, each one of them has a different degree as if they are from different vendors.</p>\n",
       " </article>\n",
       " <div>\n",
       " <input id=\"id_item_review\" name=\"id_item_review\" prefix=\"\" type=\"hidden\" value=\"5706817\"/> <div></div>\n",
       " <ul class=\"menu reviewInlineList\">\n",
       " <li><a class=\"expand helpful\" data-is-helpful=\"yes\" data-review=\"5706817\" href=\"javascript:void(0);\"><i class=\"fi-like\"></i> Helpful</a></li>\n",
       " <li><a class=\"expand not-helpful\" data-is-helpful=\"no\" data-review=\"5706817\" href=\"javascript:void(0);\"><i class=\"fi-unlike\"></i> Not Helpful</a></li>\n",
       " </ul>\n",
       " </div>\n",
       " </li>]"
      ]
     },
     "metadata": {},
     "execution_count": 76
    }
   ],
   "source": [
    "soup.find_all('li','level-1')"
   ]
  },
  {
   "cell_type": "code",
   "execution_count": null,
   "metadata": {},
   "outputs": [],
   "source": [
    "from selenium import webdriver\n",
    "from selenium.webdriver.common.keys import Keys\n",
    "\n",
    "driver = webdriver.Chrome('D:\\Data\\Machine\\Scraping\\chromedriver')\n",
    "driver.get(product_url)\n",
    "#content = driver.page_source \n"
   ]
  }
 ]
}